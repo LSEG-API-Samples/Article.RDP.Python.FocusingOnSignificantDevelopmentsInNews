{
 "cells": [
  {
   "cell_type": "markdown",
   "id": "7603cbd5-1f88-4400-8fa3-4e0629aeba5a",
   "metadata": {},
   "source": [
    "----\n",
    "<img src=\"./files/refinitiv.png\" width=\"20%\" style=\"vertical-align: top;\">\n",
    "\n",
    "---- \n",
    "This source code is provided under the Apache 2.0 license\\\n",
    "and is provided AS IS with no warranty or guarantee of fit for purpose.\\\n",
    "See the project's LICENSE.md for details.\\\n",
    "Copyright (C) 2022 Refinitiv. All rights reserved.\n",
    "---- \n",
    "# RDP News Significant Developments\n",
    "### Using Data Library for Python\n",
    "----"
   ]
  },
  {
   "cell_type": "markdown",
   "id": "1c39b9b6-e261-48a9-ba27-849d57eb37dc",
   "metadata": {},
   "source": [
    "### Setup"
   ]
  },
  {
   "cell_type": "code",
   "execution_count": 6,
   "id": "23a72c2a-209c-4973-b20a-e43a2ac70efa",
   "metadata": {},
   "outputs": [],
   "source": [
    "import os\n",
    "os.environ[\"RD_LIB_CONFIG_PATH\"] = \"./Configuration\""
   ]
  },
  {
   "cell_type": "code",
   "execution_count": 7,
   "id": "52a86af0-cf06-495c-aae4-b04b1812737b",
   "metadata": {},
   "outputs": [],
   "source": [
    "import refinitiv.data as rd\n",
    "from refinitiv.data.content import news\n",
    "from datetime import timedelta"
   ]
  },
  {
   "cell_type": "markdown",
   "id": "30905f39-365f-4c79-ade1-28120648857d",
   "metadata": {},
   "source": [
    "### For Debugging or More Insight"
   ]
  },
  {
   "cell_type": "code",
   "execution_count": 8,
   "id": "03ec14dd-0a26-413d-8846-ba80fc514b4c",
   "metadata": {},
   "outputs": [],
   "source": [
    "import pandas as pd\n",
    "pd.set_option('display.max_rows', None)\n",
    "\n",
    "#import logging\n",
    "#logging.basicConfig(format='%(asctime)s - %(name)s - %(levelname)s - %(message)s', level=logging.DEBUG)"
   ]
  },
  {
   "cell_type": "markdown",
   "id": "01d6714f-bfbf-44ae-bb62-142d79452df7",
   "metadata": {},
   "source": [
    "### Open session"
   ]
  },
  {
   "cell_type": "code",
   "execution_count": 9,
   "id": "b52c4452-bdc0-4616-ae4a-3cbd025a98a6",
   "metadata": {},
   "outputs": [
    {
     "data": {
      "text/plain": [
       "<refinitiv.data.session.platform.Definition object at 0x23fd0cc47f0 {session_name='rdp'}>"
      ]
     },
     "execution_count": 9,
     "metadata": {},
     "output_type": "execute_result"
    },
    {
     "name": "stderr",
     "output_type": "stream",
     "text": [
      "[Error 400 - invalid_grant] empty error description\n",
      "[Error 400 - invalid_grant] empty error description\n"
     ]
    }
   ],
   "source": [
    "rd.open_session('platform.rdp')\n",
    "#rd.open_session('desktop.workspace')"
   ]
  },
  {
   "cell_type": "markdown",
   "id": "a09a569b-8a0a-4e12-a0a7-88662430cf37",
   "metadata": {},
   "source": [
    "### Get Significant Developments headlines"
   ]
  },
  {
   "cell_type": "code",
   "execution_count": 5,
   "id": "9b307923-226e-483e-927f-1e120768e3bd",
   "metadata": {},
   "outputs": [
    {
     "data": {
      "text/html": [
       "<div>\n",
       "<style scoped>\n",
       "    .dataframe tbody tr th:only-of-type {\n",
       "        vertical-align: middle;\n",
       "    }\n",
       "\n",
       "    .dataframe tbody tr th {\n",
       "        vertical-align: top;\n",
       "    }\n",
       "\n",
       "    .dataframe thead th {\n",
       "        text-align: right;\n",
       "    }\n",
       "</style>\n",
       "<table border=\"1\" class=\"dataframe\">\n",
       "  <thead>\n",
       "    <tr style=\"text-align: right;\">\n",
       "      <th></th>\n",
       "      <th>versionCreated</th>\n",
       "      <th>text</th>\n",
       "      <th>storyId</th>\n",
       "      <th>sourceCode</th>\n",
       "    </tr>\n",
       "  </thead>\n",
       "  <tbody>\n",
       "    <tr>\n",
       "      <th>2022-09-29 18:39:11.081</th>\n",
       "      <td>2022-09-29 18:39:11.081</td>\n",
       "      <td>Meta Is Implementing A Hiring Freeze, And Warn...</td>\n",
       "      <td>urn:newsml:reuters.com:20220929:nRSD24JyB8:1</td>\n",
       "      <td>NS:SIGDEV</td>\n",
       "    </tr>\n",
       "    <tr>\n",
       "      <th>2022-09-21 17:06:49.349</th>\n",
       "      <td>2022-09-21 17:06:49.349</td>\n",
       "      <td>Facebook Parent Is Looking To Reduce Costs By ...</td>\n",
       "      <td>urn:newsml:reuters.com:20220921:nRSD4bQc3T:1</td>\n",
       "      <td>NS:SIGDEV</td>\n",
       "    </tr>\n",
       "    <tr>\n",
       "      <th>2022-08-16 16:14:56.201</th>\n",
       "      <td>2022-08-16 16:14:56.201</td>\n",
       "      <td>Washington State AG Says, Facebook's Meta Is \"...</td>\n",
       "      <td>urn:newsml:reuters.com:20220816:nRSD7R3w2B:1</td>\n",
       "      <td>NS:SIGDEV</td>\n",
       "    </tr>\n",
       "    <tr>\n",
       "      <th>2022-08-05 18:43:22.135</th>\n",
       "      <td>2022-08-05 18:43:22.135</td>\n",
       "      <td>Meta Has Agreed To Pause Its Acquisition Of Th...</td>\n",
       "      <td>urn:newsml:reuters.com:20220805:nRSDc2K50F:1</td>\n",
       "      <td>NS:SIGDEV</td>\n",
       "    </tr>\n",
       "    <tr>\n",
       "      <th>2022-08-02 06:05:05.558</th>\n",
       "      <td>2022-08-02 06:05:05.558</td>\n",
       "      <td>Big Cheese Studio Production Cost Of 'Cooking ...</td>\n",
       "      <td>urn:newsml:reuters.com:20220802:nRSDFH9cx:1</td>\n",
       "      <td>NS:SIGDEV</td>\n",
       "    </tr>\n",
       "    <tr>\n",
       "      <th>2022-08-01 21:18:32.017</th>\n",
       "      <td>2022-08-01 21:18:32.017</td>\n",
       "      <td>Meta Platforms Appoints Javier Olivan As Chief...</td>\n",
       "      <td>urn:newsml:reuters.com:20220801:nRSD2YzGlC:1</td>\n",
       "      <td>NS:SIGDEV</td>\n",
       "    </tr>\n",
       "    <tr>\n",
       "      <th>2022-07-28 23:44:32.669</th>\n",
       "      <td>2022-07-28 23:44:32.669</td>\n",
       "      <td>Meta, Within Unlimited Agree To Delay Closing ...</td>\n",
       "      <td>urn:newsml:reuters.com:20220728:nRSD86qycW:1</td>\n",
       "      <td>NS:SIGDEV</td>\n",
       "    </tr>\n",
       "    <tr>\n",
       "      <th>2022-07-27 20:38:36.839</th>\n",
       "      <td>2022-07-27 20:38:36.839</td>\n",
       "      <td>Meta Reports Second Quarter 2022 Results</td>\n",
       "      <td>urn:newsml:reuters.com:20220727:nRSDbt7tC3:1</td>\n",
       "      <td>NS:SIGDEV</td>\n",
       "    </tr>\n",
       "    <tr>\n",
       "      <th>2022-07-27 17:41:31.375</th>\n",
       "      <td>2022-07-27 17:41:31.375</td>\n",
       "      <td>FTC Has Sued Meta To Block It From Buying VR C...</td>\n",
       "      <td>urn:newsml:reuters.com:20220727:nRSD9Khctz:1</td>\n",
       "      <td>NS:SIGDEV</td>\n",
       "    </tr>\n",
       "    <tr>\n",
       "      <th>2022-07-25 20:26:27.997</th>\n",
       "      <td>2022-07-25 20:26:27.997</td>\n",
       "      <td>Meta Weighs Buying Eye-Tracking Glasses Startu...</td>\n",
       "      <td>urn:newsml:reuters.com:20220725:nRSD8gNDsW:1</td>\n",
       "      <td>NS:SIGDEV</td>\n",
       "    </tr>\n",
       "  </tbody>\n",
       "</table>\n",
       "</div>"
      ],
      "text/plain": [
       "                                 versionCreated  \\\n",
       "2022-09-29 18:39:11.081 2022-09-29 18:39:11.081   \n",
       "2022-09-21 17:06:49.349 2022-09-21 17:06:49.349   \n",
       "2022-08-16 16:14:56.201 2022-08-16 16:14:56.201   \n",
       "2022-08-05 18:43:22.135 2022-08-05 18:43:22.135   \n",
       "2022-08-02 06:05:05.558 2022-08-02 06:05:05.558   \n",
       "2022-08-01 21:18:32.017 2022-08-01 21:18:32.017   \n",
       "2022-07-28 23:44:32.669 2022-07-28 23:44:32.669   \n",
       "2022-07-27 20:38:36.839 2022-07-27 20:38:36.839   \n",
       "2022-07-27 17:41:31.375 2022-07-27 17:41:31.375   \n",
       "2022-07-25 20:26:27.997 2022-07-25 20:26:27.997   \n",
       "\n",
       "                                                                      text  \\\n",
       "2022-09-29 18:39:11.081  Meta Is Implementing A Hiring Freeze, And Warn...   \n",
       "2022-09-21 17:06:49.349  Facebook Parent Is Looking To Reduce Costs By ...   \n",
       "2022-08-16 16:14:56.201  Washington State AG Says, Facebook's Meta Is \"...   \n",
       "2022-08-05 18:43:22.135  Meta Has Agreed To Pause Its Acquisition Of Th...   \n",
       "2022-08-02 06:05:05.558  Big Cheese Studio Production Cost Of 'Cooking ...   \n",
       "2022-08-01 21:18:32.017  Meta Platforms Appoints Javier Olivan As Chief...   \n",
       "2022-07-28 23:44:32.669  Meta, Within Unlimited Agree To Delay Closing ...   \n",
       "2022-07-27 20:38:36.839           Meta Reports Second Quarter 2022 Results   \n",
       "2022-07-27 17:41:31.375  FTC Has Sued Meta To Block It From Buying VR C...   \n",
       "2022-07-25 20:26:27.997  Meta Weighs Buying Eye-Tracking Glasses Startu...   \n",
       "\n",
       "                                                              storyId  \\\n",
       "2022-09-29 18:39:11.081  urn:newsml:reuters.com:20220929:nRSD24JyB8:1   \n",
       "2022-09-21 17:06:49.349  urn:newsml:reuters.com:20220921:nRSD4bQc3T:1   \n",
       "2022-08-16 16:14:56.201  urn:newsml:reuters.com:20220816:nRSD7R3w2B:1   \n",
       "2022-08-05 18:43:22.135  urn:newsml:reuters.com:20220805:nRSDc2K50F:1   \n",
       "2022-08-02 06:05:05.558   urn:newsml:reuters.com:20220802:nRSDFH9cx:1   \n",
       "2022-08-01 21:18:32.017  urn:newsml:reuters.com:20220801:nRSD2YzGlC:1   \n",
       "2022-07-28 23:44:32.669  urn:newsml:reuters.com:20220728:nRSD86qycW:1   \n",
       "2022-07-27 20:38:36.839  urn:newsml:reuters.com:20220727:nRSDbt7tC3:1   \n",
       "2022-07-27 17:41:31.375  urn:newsml:reuters.com:20220727:nRSD9Khctz:1   \n",
       "2022-07-25 20:26:27.997  urn:newsml:reuters.com:20220725:nRSD8gNDsW:1   \n",
       "\n",
       "                        sourceCode  \n",
       "2022-09-29 18:39:11.081  NS:SIGDEV  \n",
       "2022-09-21 17:06:49.349  NS:SIGDEV  \n",
       "2022-08-16 16:14:56.201  NS:SIGDEV  \n",
       "2022-08-05 18:43:22.135  NS:SIGDEV  \n",
       "2022-08-02 06:05:05.558  NS:SIGDEV  \n",
       "2022-08-01 21:18:32.017  NS:SIGDEV  \n",
       "2022-07-28 23:44:32.669  NS:SIGDEV  \n",
       "2022-07-27 20:38:36.839  NS:SIGDEV  \n",
       "2022-07-27 17:41:31.375  NS:SIGDEV  \n",
       "2022-07-25 20:26:27.997  NS:SIGDEV  "
      ]
     },
     "execution_count": 5,
     "metadata": {},
     "output_type": "execute_result"
    }
   ],
   "source": [
    "response = news.headlines.Definition(\n",
    "    query=\"NS:SIGDEV AND FB.O AND ES:1 BETWEEN 2021-10-21 AND 2022-10-01\"\n",
    ").get_data()\n",
    "response.data.df"
   ]
  },
  {
   "cell_type": "markdown",
   "id": "55fc5099-84c5-4e49-86cd-9b5a1d39b10c",
   "metadata": {},
   "source": [
    "### Request Single Story - First"
   ]
  },
  {
   "cell_type": "code",
   "execution_count": 20,
   "id": "95e9a524-24d6-49e8-b580-2a6a0b080dd9",
   "metadata": {
    "tags": []
   },
   "outputs": [
    {
     "name": "stdout",
     "output_type": "stream",
     "text": [
      "TITLE:  Facebook Parent Is Looking To Reduce Costs By At Least 10% - WSJ \n",
      "\n",
      "Sept 21 (Reuters) - :\n",
      "*FACEBOOK PARENT IS LOOKING TO REDUCE COSTS BY AT LEAST 10% - WSJ\n",
      "*GOOGLE HAS REQUIRED SOME EMPLOYEES TO APPLY FOR NEW JOBS - WSJ\n",
      "\n",
      "  ((Reuters Investor Briefs; email: reutersinvestor.briefs@thomsonreuters.com))\n",
      "  Source Date/Time = 21-SEP-202216:54:18 GMT\n",
      "             \n"
     ]
    },
    {
     "name": "stderr",
     "output_type": "stream",
     "text": [
      "[Error 400 - invalid_grant] empty error description\n"
     ]
    }
   ],
   "source": [
    "response2 = news.story.Definition(response.data.df['storyId'][0]).get_data() #\"urn:newsml:reuters.com:20211003:nNRAgvhyiu:1\").get_data()\n",
    "#print(response2.data.raw)\n",
    "if 'News Alert' in str(response2.data.raw):\n",
    "    print('<<<This is an ALERT>>>')\n",
    "else:\n",
    "    print('TITLE: ',response2.data.story.title, '\\n')\n",
    "    print(response2.data.story.content)"
   ]
  },
  {
   "cell_type": "markdown",
   "id": "9cca23ed-550c-4912-b33d-d7f7691c57e4",
   "metadata": {},
   "source": [
    "### Request and Display All Stories"
   ]
  },
  {
   "cell_type": "code",
   "execution_count": 10,
   "id": "f18a9d82-3d2c-433a-b7e5-c5d763aae866",
   "metadata": {
    "scrolled": true,
    "tags": []
   },
   "outputs": [
    {
     "name": "stdout",
     "output_type": "stream",
     "text": [
      "Story ID #0 is : urn:newsml:reuters.com:20220802:nRSDbqyCvj:1\n",
      "TITLE:  Advanced Micro Devices Q2 Non-GAAP Earnings Per Share $1.05 \n",
      "\n",
      "Advanced Micro Devices Inc <AMD.O>::\n",
      "*AMD REPORTS SECOND QUARTER 2022 FINANCIAL RESULTS\n",
      "*Q2 NON-GAAP EARNINGS PER SHARE $1.05\n",
      "*Q2 EARNINGS PER SHARE $0.27\n",
      "*REVENUE FOR Q2 OF 2022 OF $6.6 BILLION\n",
      "*FOR THE THIRD QUARTER OF 2022, EXPECTS REVENUE TO BE APPROXIMATELY $6.7 BILLION, PLUS OR MINUS $200 MILLION\n",
      "*FOR THE FULL YEAR 2022, CO CONTINUES TO EXPECT REVENUE TO BE APPROXIMATELY $26.3 BILLION, PLUS OR MINUS $300 MILLION\n",
      "*QTRLY DATA CENTER SEGMENT REVENUE WAS $1.5 BILLION, UP 83% YEAR-OVER-YEAR\n",
      "*QTRLY CLIENT SEGMENT REVENUE WAS $2.2 BILLION, UP 25% YEAR-OVER-YEAR\n",
      "*QTRLY GAMING SEGMENT REVENUE WAS $1.7 BILLION, UP 32% YEAR-OVER-YEAR\n",
      "*QTRLY EMBEDDED SEGMENT REVENUE WAS $1.3 BILLION, UP 2,228% YEAR-OVER-YEAR\n",
      "*Q2 EARNINGS PER SHARE VIEW $1.03, REVENUE VIEW $6.53 BILLION -- REFINITIV IBES DATA\n",
      "*Q3 REVENUE VIEW $6.82 BILLION -- REFINITIV IBES DATA\n",
      "*FY2022 REVENUE VIEW $26.18 BILLION -- REFINITIV IBES DATA\n",
      "\n",
      "  ((Reuters Investor Briefs; email: reutersinvestor.briefs@thomsonreuters.com))\n",
      "  Source Date/Time = 02-AUG-202220:05:49.55 GMT\n",
      "             \n",
      "---------------------------------------------\n",
      "Story ID #1 is : urn:newsml:reuters.com:20220526:nRSD25BMBD:1\n",
      "TITLE:  AMD Completes Acquisition Of Pensando Systems, Deal Valued At About $1.9 Billion \n",
      "\n",
      "May 26 (Reuters) - Advanced Micro Devices Inc <AMD.O>::\n",
      "*AMD EXPANDS DATA CENTER SOLUTIONS CAPABILITIES WITH ACQUISITION OF PENSANDO\n",
      "*ADVANCED MICRO DEVICES INC- COMPLETED ITS ACQUISITION OF PENSANDO SYSTEMS IN A TRANSACTION VALUED AT APPROXIMATELY $1.9 BILLION\n",
      "\n",
      "  ((Reuters Investor Briefs; email: reutersinvestor.briefs@thomsonreuters.com))\n",
      "  Source Date/Time = 26-MAY-202212:47:00.067 GMT\n",
      "             \n",
      "---------------------------------------------\n",
      "Story ID #2 is : urn:newsml:reuters.com:20220503:nRSD8cYHrQ:1\n",
      "TITLE:  AMD Reports Q1 Non-GAAP EPS $1.13 \n",
      "\n",
      "May 3 (Reuters) - Advanced Micro Devices Inc <AMD.O>::\n",
      "*AMD REPORTS FIRST QUARTER 2022 FINANCIAL RESULTS\n",
      "*Q1 NON-GAAP EARNINGS PER SHARE $1.13\n",
      "*Q1 EARNINGS PER SHARE $0.56\n",
      "*Q1 REVENUE ROSE 71 PERCENT TO $5.9 BILLION\n",
      "*QTRLY COMPUTING AND GRAPHICS SEGMENT REVENUE WAS $2.8 BILLION, UP 33% YEAR-OVER-YEAR AND 8% QUARTER-OVER-QUARTER\n",
      "*QTRLY ENTERPRISE, EMBEDDED AND SEMI-CUSTOM SEGMENT REVENUE WAS $2.5 BILLION, UP 88% YEAR-OVER-YEAR AND 13% QUARTER-OVER-QUARTER\n",
      "*FOR Q2 OF 2022, AMD EXPECTS REVENUE TO BE APPROXIMATELY $6.5 BILLION, PLUS OR MINUS $200 MILLION\n",
      "*QTRLY GROSS MARGIN 48% VERSUS 46%\n",
      "*FOR FULL YEAR 2022, AMD NOW EXPECTS REVENUE TO BE APPROXIMATELY $26.3 BILLION, AN INCREASE OF APPROXIMATELY 60% OVER 2021\n",
      "*Q1 EARNINGS PER SHARE VIEW $0.91, REVENUE VIEW $5.52 BILLION -- REFINITIV IBES DATA\n",
      "*Q2 REVENUE VIEW $6.38 BILLION -- REFINITIV IBES DATA\n",
      "*FY2022 REVENUE VIEW $25.15 BILLION -- REFINITIV IBES DATA\n",
      "\n",
      "  ((Reuters Investor Briefs; email: reutersinvestor.briefs@thomsonreuters.com))\n",
      "  Source Date/Time = 03-MAY-202220:10:06.327 GMT\n",
      "             \n",
      "---------------------------------------------\n",
      "Story ID #3 is : urn:newsml:reuters.com:20220214:nRSD8y0H30:1\n",
      "TITLE:  AMD Board Of Directors Announces New Appointments \n",
      "\n",
      "Feb 14 (Reuters) - Advanced Micro Devices Inc <AMD.O>::\n",
      "*AMD BOARD OF DIRECTORS ANNOUNCES NEW APPOINTMENTS\n",
      "*ADVANCED MICRO DEVICES INC -  ELECTED PRESIDENT AND CEO LISA SU AS CHAIR OF BOARD AND JOHN CALDWELL AS LEAD INDEPENDENT DIRECTOR\n",
      "*ADVANCED MICRO DEVICES INC - FORMER XILINX BOARD MEMBERS JON OLSON AND ELIZABETH VANDERSLICE HAVE JOINED AMD BOARD\n",
      "\n",
      "  ((Reuters Investor Briefs; email: reutersinvestor.briefs@thomsonreuters.com))\n",
      "  Source Date/Time = 14-FEB-202213:37:16.077 GMT\n",
      "             \n",
      "---------------------------------------------\n",
      "Story ID #4 is : urn:newsml:reuters.com:20220201:nRSD5nFbzZ:1\n",
      "TITLE:  Advanced Micro Devices Reports Q4 EPS Of $0.80 \n",
      "\n",
      "Feb 1 (Reuters) - Advanced Micro Devices Inc <AMD.O>::\n",
      "*AMD REPORTS FOURTH QUARTER AND FULL YEAR 2021 FINANCIAL RESULTS\n",
      "*Q4 NON-GAAP EARNINGS PER SHARE $0.92\n",
      "*Q4 EARNINGS PER SHARE $0.80\n",
      "*QTRLY COMPUTING AND GRAPHICS SEGMENT REVENUE WAS $2.6 BILLION, UP 32 PERCENT YEAR-OVER-YEAR\n",
      "*QTRLY GROSS MARGIN WAS 50 PERCENT, AN INCREASE OF MORE THAN 5 PERCENTAGE POINTS YEAR-OVER-YEAR\n",
      "*QTRLY ENTERPRISE, EMBEDDED AND SEMI-CUSTOM SEGMENT REVENUE WAS $2.2 BILLION, UP 75 PERCENT YEAR-OVER-YEAR\n",
      "*FOR THE FULL YEAR 2022, AMD EXPECTS REVENUE TO BE APPROXIMATELY $21.5 BILLION\n",
      "*EXPECTS NON-GAAP GROSS MARGIN TO BE APPROXIMATELY 51 PERCENT FOR 2022.\n",
      "*FOR Q1 OF 2022, AMD EXPECTS REVENUE TO BE APPROXIMATELY $5.0 BILLION, PLUS OR MINUS $100 MILLION\n",
      "*FY2022 REVENUE VIEW $19.27 BILLION -- REFINITIV IBES DATA\n",
      "*EXPECTS NON-GAAP GROSS MARGIN TO BE APPROXIMATELY 50.5 PERCENT IN Q1 OF 2022\n",
      "*QTRLY REVENUE OF $4.8 BILLION WAS UP 49 PERCENT YEAR-OVER-YEAR\n",
      "*Q4 EARNINGS PER SHARE VIEW $0.76, REVENUE VIEW $4.52 BILLION -- REFINITIV IBES DATA\n",
      "\n",
      "  ((Reuters Investor Briefs; email: reutersinvestor.briefs@thomsonreuters.com))\n",
      "  Source Date/Time = 01-FEB-202221:15:00.39 GMT\n",
      "             \n",
      "---------------------------------------------\n",
      "Story ID #5 is : urn:newsml:reuters.com:20220126:nRSD9yn9Br:1\n",
      "TITLE:  Xilinx Reports Record Revenue Of $1.01 Billion In Fiscal Third Quarter \n",
      "\n",
      "Jan 26 (Reuters) - Xilinx Inc <XLNX.O>::\n",
      "*XILINX REPORTS RECORD REVENUE OF $1.01 BILLION IN FISCAL THIRD QUARTER\n",
      "*Q3 NON-GAAP EARNINGS PER SHARE $1.29\n",
      "*Q3 GAAP EARNINGS PER SHARE $1.19\n",
      "*Q3 REVENUE ROSE 8 PERCENT TO $1.011 BILLION\n",
      "*DUE TO PENDING ACQUISITION WITH AMD, WILL NOT HOLD AN EARNINGS CONFERENCE CALL OR PROVIDE FORWARD-LOOKING GUIDANCE\n",
      "*WE SAW BROAD AND ROBUST DEMAND ACROSS OUR END MARKETS WITH RECORD QUARTERS IN OUR DCG BUSINESS AS WELL AS OUR A&D END MARKET DURING QUARTER\n",
      "*Q3 EARNINGS PER SHARE VIEW $0.95, REVENUE VIEW $956.8 MILLION -- REFINITIV IBES DATA\n",
      "\n",
      "  ((Reuters Investor Briefs; email: reutersinvestor.briefs@thomsonreuters.com))\n",
      "  Source Date/Time = 26-JAN-202221:20:00.307 GMT\n",
      "             \n",
      "---------------------------------------------\n",
      "Story ID #6 is : urn:newsml:reuters.com:20211230:nRSDbZZ2bd:1\n",
      "TITLE:  AMD And Xilinx Now Expect Transaction To Close In Q1 2022 \n",
      "\n",
      "Dec 30 (Reuters) - Xilinx Inc <XLNX.O>::\n",
      "*AMD AND XILINX PROVIDE UPDATE REGARDING EXPECTED TIMING OF ACQUISITION CLOSE\n",
      "*XILINX INC - HAVE NOT YET COMPLETED APPROVAL PROCESS FOR ACQUISITION AND NOW EXPECT TRANSACTION TO CLOSE IN Q1 OF 2022\n",
      "*XILINX INC - NO ADDITIONAL CHANGES TO PREVIOUSLY ANNOUNCED TERMS OR PLANS REGARDING TRANSACTION\n",
      "*XILINX INC - EXPECT TO SECURE ALL REQUIRED APPROVALS\n",
      "\n",
      "  ((Reuters Investor Briefs; email: reutersinvestor.briefs@thomsonreuters.com))\n",
      "  Source Date/Time = 30-DEC-202121:15:00.063 GMT\n",
      "             \n",
      "---------------------------------------------\n",
      "Story ID #7 is : urn:newsml:reuters.com:20211026:nRSD7JJlfg:1\n",
      "TITLE:  AMD Reports Q3 EPS $0.75 \n",
      "\n",
      "Oct 26 (Reuters) - Advanced Micro Devices Inc <AMD.O>::\n",
      "*AMD REPORTS THIRD QUARTER 2021 FINANCIAL RESULTS\n",
      "*Q3 NON-GAAP EARNINGS PER SHARE $0.73\n",
      "*Q3 EARNINGS PER SHARE $0.75\n",
      "*Q3 REVENUE $4.3 BILLION\n",
      "*QTRLY GROSS MARGIN  48% VERSUS 44%\n",
      "*QTRLY COMPUTING AND GRAPHICS SEGMENT REVENUE WAS $2.4 BILLION, UP 44 PERCENT YEAR-OVER-YEAR\n",
      "*QTRLY ENTERPRISE, EMBEDDED AND SEMI-CUSTOM SEGMENT REVENUE WAS $1.9 BILLION, UP 69 PERCENT YEAR-OVER-YEAR\n",
      "*FOR Q4, AMD EXPECTS REVENUE TO BE APPROXIMATELY $4.5 BILLION, PLUS OR MINUS $100 MILLION\n",
      "*EXPECTS NON-GAAP GROSS MARGIN TO BE APPROXIMATELY 49.5 PERCENT IN THE FOURTH QUARTER 2021\n",
      "*FOR THE FULL YEAR 2021, AMD NOW EXPECTS REVENUE TO GROW APPROXIMATELY 65 PERCENT DRIVEN BY GROWTH ACROSS ALL BUSINESSES\n",
      "*AMD EXPECTS NON-GAAP GROSS MARGIN TO BE APPROXIMATELY 48 PERCENT FOR THE FULL YEAR 2021.\n",
      "*Q4 REVENUE VIEW $4.25 BILLION -- REFINITIV IBES DATA\n",
      "*3RD GEN EPYC PROCESSOR SHIPMENTS RAMPED SIGNIFICANTLY IN THE QUARTER\n",
      "\n",
      "  ((Reuters Investor Briefs; email: reutersinvestor.briefs@thomsonreuters.com))\n",
      "  Source Date/Time = 26-OCT-202120:15:00.957 GMT\n",
      "             \n",
      "---------------------------------------------\n"
     ]
    }
   ],
   "source": [
    "count = 0;\n",
    "for storyIdIter in response.data.df['storyId']:\n",
    "    print('Story ID #'+str(count)+' is : '+storyIdIter)\n",
    "    response3 = news.story.Definition(storyIdIter).get_data()\n",
    "    if 'News Alert' in str(response3.data.raw):\n",
    "        print('<<<This is an ALERT>>>')\n",
    "    else:\n",
    "        print('TITLE: ',response3.data.story.title, '\\n')\n",
    "        print(response3.data.story.content)\n",
    "    print('---------------------------------------------')\n",
    "    count = count+1"
   ]
  },
  {
   "cell_type": "markdown",
   "id": "bb4e7105-a6cd-45a1-9783-0970f8edc90a",
   "metadata": {},
   "source": [
    "## Close the session"
   ]
  },
  {
   "cell_type": "code",
   "execution_count": 11,
   "id": "5676639f-8463-4af9-a6c8-7c2816a6949d",
   "metadata": {},
   "outputs": [],
   "source": [
    "rd.close_session()"
   ]
  }
 ],
 "metadata": {
  "kernelspec": {
   "display_name": "Python 3 (ipykernel)",
   "language": "python",
   "name": "python3"
  },
  "language_info": {
   "codemirror_mode": {
    "name": "ipython",
    "version": 3
   },
   "file_extension": ".py",
   "mimetype": "text/x-python",
   "name": "python",
   "nbconvert_exporter": "python",
   "pygments_lexer": "ipython3",
   "version": "3.8.8"
  }
 },
 "nbformat": 4,
 "nbformat_minor": 5
}
